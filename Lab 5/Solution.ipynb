{
  "cells": [
    {
      "cell_type": "code",
      "execution_count": null,
      "metadata": {
        "id": "FdRgZebQxmVT"
      },
      "outputs": [],
      "source": [
        "from tensorflow.keras.datasets.mnist import load_data\n",
        "import matplotlib.pyplot as plt\n",
        "import numpy as np\n",
        "import pandas as pd\n",
        "import seaborn as sns\n",
        "from PIL import Image\n",
        "\n",
        "#from google.colab import drive\n",
        "#drive.mount('/content/drive')"
      ]
    },
    {
      "cell_type": "code",
      "execution_count": null,
      "metadata": {
        "id": "MK7vRUgyxmVY",
        "colab": {
          "base_uri": "https://localhost:8080/"
        },
        "outputId": "047e9941-fde3-4267-a2bc-5a326934f546"
      },
      "outputs": [
        {
          "output_type": "stream",
          "name": "stdout",
          "text": [
            "Downloading data from https://storage.googleapis.com/tensorflow/tf-keras-datasets/mnist.npz\n",
            "11493376/11490434 [==============================] - 0s 0us/step\n",
            "11501568/11490434 [==============================] - 0s 0us/step\n"
          ]
        }
      ],
      "source": [
        "# Download image data\n",
        "(train_digits, train_labels), (test_digits, test_labels) = load_data()"
      ]
    },
    {
      "cell_type": "code",
      "execution_count": null,
      "metadata": {
        "id": "0_9BIjQqxmVZ",
        "colab": {
          "base_uri": "https://localhost:8080/"
        },
        "outputId": "f51d4895-a7e9-4265-ecdf-302cb1477d2c"
      },
      "outputs": [
        {
          "output_type": "execute_result",
          "data": {
            "text/plain": [
              "array([[  0,   0,   0,   0,   0,   0,   0,   0,   0,   0,   0,   0,   0,\n",
              "          0,   0,   0,   0,   0,   0,   0,   0,   0,   0,   0,   0,   0,\n",
              "          0,   0],\n",
              "       [  0,   0,   0,   0,   0,   0,   0,   0,   0,   0,   0,   0,   0,\n",
              "          0,   0,   0,   0,   0,   0,   0,   0,   0,   0,   0,   0,   0,\n",
              "          0,   0],\n",
              "       [  0,   0,   0,   0,   0,   0,   0,   0,   0,   0,   0,   0,   0,\n",
              "          0,   0,   0,   0,   0,   0,   0,   0,   0,   0,   0,   0,   0,\n",
              "          0,   0],\n",
              "       [  0,   0,   0,   0,   0,   0,   0,   0,   0,   0,   0,   0,   0,\n",
              "          0,   0,   0,   0,   0,   0,   0,   0,   0,   0,   0,   0,   0,\n",
              "          0,   0],\n",
              "       [  0,   0,   0,   0,   0,   0,   0,   0,   0,   0,   0,   0,   0,\n",
              "          0,   0,   0,   0,   0,   0,   0,   0,   0,   0,   0,   0,   0,\n",
              "          0,   0],\n",
              "       [  0,   0,   0,   0,   0,   0,   0,   0,   0,   0,   0,   0,   3,\n",
              "         18,  18,  18, 126, 136, 175,  26, 166, 255, 247, 127,   0,   0,\n",
              "          0,   0],\n",
              "       [  0,   0,   0,   0,   0,   0,   0,   0,  30,  36,  94, 154, 170,\n",
              "        253, 253, 253, 253, 253, 225, 172, 253, 242, 195,  64,   0,   0,\n",
              "          0,   0],\n",
              "       [  0,   0,   0,   0,   0,   0,   0,  49, 238, 253, 253, 253, 253,\n",
              "        253, 253, 253, 253, 251,  93,  82,  82,  56,  39,   0,   0,   0,\n",
              "          0,   0],\n",
              "       [  0,   0,   0,   0,   0,   0,   0,  18, 219, 253, 253, 253, 253,\n",
              "        253, 198, 182, 247, 241,   0,   0,   0,   0,   0,   0,   0,   0,\n",
              "          0,   0],\n",
              "       [  0,   0,   0,   0,   0,   0,   0,   0,  80, 156, 107, 253, 253,\n",
              "        205,  11,   0,  43, 154,   0,   0,   0,   0,   0,   0,   0,   0,\n",
              "          0,   0],\n",
              "       [  0,   0,   0,   0,   0,   0,   0,   0,   0,  14,   1, 154, 253,\n",
              "         90,   0,   0,   0,   0,   0,   0,   0,   0,   0,   0,   0,   0,\n",
              "          0,   0],\n",
              "       [  0,   0,   0,   0,   0,   0,   0,   0,   0,   0,   0, 139, 253,\n",
              "        190,   2,   0,   0,   0,   0,   0,   0,   0,   0,   0,   0,   0,\n",
              "          0,   0],\n",
              "       [  0,   0,   0,   0,   0,   0,   0,   0,   0,   0,   0,  11, 190,\n",
              "        253,  70,   0,   0,   0,   0,   0,   0,   0,   0,   0,   0,   0,\n",
              "          0,   0],\n",
              "       [  0,   0,   0,   0,   0,   0,   0,   0,   0,   0,   0,   0,  35,\n",
              "        241, 225, 160, 108,   1,   0,   0,   0,   0,   0,   0,   0,   0,\n",
              "          0,   0],\n",
              "       [  0,   0,   0,   0,   0,   0,   0,   0,   0,   0,   0,   0,   0,\n",
              "         81, 240, 253, 253, 119,  25,   0,   0,   0,   0,   0,   0,   0,\n",
              "          0,   0],\n",
              "       [  0,   0,   0,   0,   0,   0,   0,   0,   0,   0,   0,   0,   0,\n",
              "          0,  45, 186, 253, 253, 150,  27,   0,   0,   0,   0,   0,   0,\n",
              "          0,   0],\n",
              "       [  0,   0,   0,   0,   0,   0,   0,   0,   0,   0,   0,   0,   0,\n",
              "          0,   0,  16,  93, 252, 253, 187,   0,   0,   0,   0,   0,   0,\n",
              "          0,   0],\n",
              "       [  0,   0,   0,   0,   0,   0,   0,   0,   0,   0,   0,   0,   0,\n",
              "          0,   0,   0,   0, 249, 253, 249,  64,   0,   0,   0,   0,   0,\n",
              "          0,   0],\n",
              "       [  0,   0,   0,   0,   0,   0,   0,   0,   0,   0,   0,   0,   0,\n",
              "          0,  46, 130, 183, 253, 253, 207,   2,   0,   0,   0,   0,   0,\n",
              "          0,   0],\n",
              "       [  0,   0,   0,   0,   0,   0,   0,   0,   0,   0,   0,   0,  39,\n",
              "        148, 229, 253, 253, 253, 250, 182,   0,   0,   0,   0,   0,   0,\n",
              "          0,   0],\n",
              "       [  0,   0,   0,   0,   0,   0,   0,   0,   0,   0,  24, 114, 221,\n",
              "        253, 253, 253, 253, 201,  78,   0,   0,   0,   0,   0,   0,   0,\n",
              "          0,   0],\n",
              "       [  0,   0,   0,   0,   0,   0,   0,   0,  23,  66, 213, 253, 253,\n",
              "        253, 253, 198,  81,   2,   0,   0,   0,   0,   0,   0,   0,   0,\n",
              "          0,   0],\n",
              "       [  0,   0,   0,   0,   0,   0,  18, 171, 219, 253, 253, 253, 253,\n",
              "        195,  80,   9,   0,   0,   0,   0,   0,   0,   0,   0,   0,   0,\n",
              "          0,   0],\n",
              "       [  0,   0,   0,   0,  55, 172, 226, 253, 253, 253, 253, 244, 133,\n",
              "         11,   0,   0,   0,   0,   0,   0,   0,   0,   0,   0,   0,   0,\n",
              "          0,   0],\n",
              "       [  0,   0,   0,   0, 136, 253, 253, 253, 212, 135, 132,  16,   0,\n",
              "          0,   0,   0,   0,   0,   0,   0,   0,   0,   0,   0,   0,   0,\n",
              "          0,   0],\n",
              "       [  0,   0,   0,   0,   0,   0,   0,   0,   0,   0,   0,   0,   0,\n",
              "          0,   0,   0,   0,   0,   0,   0,   0,   0,   0,   0,   0,   0,\n",
              "          0,   0],\n",
              "       [  0,   0,   0,   0,   0,   0,   0,   0,   0,   0,   0,   0,   0,\n",
              "          0,   0,   0,   0,   0,   0,   0,   0,   0,   0,   0,   0,   0,\n",
              "          0,   0],\n",
              "       [  0,   0,   0,   0,   0,   0,   0,   0,   0,   0,   0,   0,   0,\n",
              "          0,   0,   0,   0,   0,   0,   0,   0,   0,   0,   0,   0,   0,\n",
              "          0,   0]], dtype=uint8)"
            ]
          },
          "metadata": {},
          "execution_count": 3
        }
      ],
      "source": [
        "train_digits[0]"
      ]
    },
    {
      "cell_type": "markdown",
      "source": [
        "# 56*56 Images"
      ],
      "metadata": {
        "id": "z2goAHsAzwsf"
      }
    },
    {
      "cell_type": "code",
      "source": [
        "# train_digits_rescaled=[]\n",
        "# test_digits_rescaled=[]\n",
        "# for i in range (train_digits.shape[0]):\n",
        "#   im=Image.fromarray(train_digits[i])\n",
        "#   train_digits_rescaled.append(np.array(im.resize((56,56))))\n",
        "\n",
        "# for i in range (test_digits.shape[0]):\n",
        "#   im=Image.fromarray(test_digits[i])\n",
        "#   test_digits_rescaled.append(np.array(im.resize((56,56))))\n",
        "\n",
        "# train_digits=np.array(train_digits_rescaled)\n",
        "# test_digits=np.array(test_digits_rescaled)"
      ],
      "metadata": {
        "id": "QexjJyp3zlp9"
      },
      "execution_count": null,
      "outputs": []
    },
    {
      "cell_type": "markdown",
      "source": [
        "# 28*28 images"
      ],
      "metadata": {
        "id": "LDJPv9uuznpd"
      }
    },
    {
      "cell_type": "code",
      "source": [
        "train_digits_rescaled=[]\n",
        "test_digits_rescaled=[]\n",
        "for i in range (train_digits.shape[0]):\n",
        "  im=Image.fromarray(train_digits[i])\n",
        "  train_digits_rescaled.append(np.array(im.resize((28,28))))\n",
        "\n",
        "for i in range (test_digits.shape[0]):\n",
        "  im=Image.fromarray(test_digits[i])\n",
        "  test_digits_rescaled.append(np.array(im.resize((28,28))))\n",
        "\n",
        "train_digits=np.array(train_digits_rescaled)\n",
        "test_digits=np.array(test_digits_rescaled)"
      ],
      "metadata": {
        "id": "vZBpLSIzyoEJ"
      },
      "execution_count": null,
      "outputs": []
    },
    {
      "cell_type": "code",
      "execution_count": null,
      "metadata": {
        "colab": {
          "base_uri": "https://localhost:8080/"
        },
        "id": "jjJhsIJExmVb",
        "outputId": "8fb56c42-402e-41f8-9302-df54a0458816"
      },
      "outputs": [
        {
          "output_type": "execute_result",
          "data": {
            "text/plain": [
              "(60000, 28, 28)"
            ]
          },
          "metadata": {},
          "execution_count": 8
        }
      ],
      "source": [
        "# Num of Samples = 60000, shape of Image = 28x28 (Height x Width)\n",
        "train_digits.shape\n"
      ]
    },
    {
      "cell_type": "code",
      "execution_count": null,
      "metadata": {
        "colab": {
          "base_uri": "https://localhost:8080/"
        },
        "id": "wme6z4L9xmVc",
        "outputId": "d20f4db9-a695-4764-9266-43cb93ad2648"
      },
      "outputs": [
        {
          "output_type": "execute_result",
          "data": {
            "text/plain": [
              "(10000, 28, 28)"
            ]
          },
          "metadata": {},
          "execution_count": 9
        }
      ],
      "source": [
        "test_digits.shape"
      ]
    },
    {
      "cell_type": "markdown",
      "metadata": {
        "id": "2wACcAoBxmVd"
      },
      "source": [
        "#### Dsiplay Image Data"
      ]
    },
    {
      "cell_type": "code",
      "execution_count": null,
      "metadata": {
        "scrolled": true,
        "colab": {
          "base_uri": "https://localhost:8080/",
          "height": 256
        },
        "id": "00g0L8k1xmVg",
        "outputId": "6d209dfb-91e4-4174-e59c-d7779b1c7f35"
      },
      "outputs": [
        {
          "output_type": "display_data",
          "data": {
            "image/png": "[encoded data removed]",
            "text/plain": [
              "<Figure size 1440x288 with 5 Axes>"
            ]
          },
          "metadata": {
            "needs_background": "light"
          }
        }
      ],
      "source": [
        "plt.figure(figsize = (20,4))\n",
        "\n",
        "for index, (image,label) in enumerate(zip(train_digits[0:5], train_labels[0:5])):\n",
        "    plt.subplot(1, 5, index+1)\n",
        "    # This convert arrays into images\n",
        "    plt.imshow(np.reshape(image, (28,28)), cmap = 'gray')\n",
        "    plt.title(\"Label %i\" %label, fontsize = 12)"
      ]
    },
    {
      "cell_type": "markdown",
      "metadata": {
        "id": "CEcj-_bYxmVh"
      },
      "source": [
        "#### Labels"
      ]
    },
    {
      "cell_type": "code",
      "execution_count": null,
      "metadata": {
        "colab": {
          "base_uri": "https://localhost:8080/"
        },
        "id": "3JZtvy-5xmVi",
        "outputId": "ce3035eb-e8b2-4574-88da-d7362b89f848"
      },
      "outputs": [
        {
          "output_type": "execute_result",
          "data": {
            "text/plain": [
              "array([5, 0, 4, 1, 9, 2, 3, 6, 7, 8], dtype=uint8)"
            ]
          },
          "metadata": {},
          "execution_count": 37
        }
      ],
      "source": [
        "pd.Series(train_labels).unique()"
      ]
    },
    {
      "cell_type": "markdown",
      "metadata": {
        "id": "JiTluOAYxmVk"
      },
      "source": [
        "#### Reshaping of target into Categorical Data"
      ]
    },
    {
      "cell_type": "code",
      "execution_count": null,
      "metadata": {
        "id": "ktz3EEMZxmVl"
      },
      "outputs": [],
      "source": [
        "# For multi-class use one-hot encoding\n",
        "from tensorflow.keras.utils import to_categorical\n",
        "num_classes = 10\n",
        "train_labels_cat = to_categorical(train_labels, num_classes)\n",
        "test_labels_cat = to_categorical(test_labels, num_classes)"
      ]
    },
    {
      "cell_type": "code",
      "execution_count": null,
      "metadata": {
        "scrolled": true,
        "colab": {
          "base_uri": "https://localhost:8080/"
        },
        "id": "3uCA-iYexmVm",
        "outputId": "74b9d0da-22fc-410d-d7d8-1edbf597ae4a"
      },
      "outputs": [
        {
          "output_type": "execute_result",
          "data": {
            "text/plain": [
              "array([0., 0., 0., 0., 0., 1., 0., 0., 0., 0.], dtype=float32)"
            ]
          },
          "metadata": {},
          "execution_count": 39
        }
      ],
      "source": [
        "train_labels_cat[0]"
      ]
    },
    {
      "cell_type": "code",
      "execution_count": null,
      "metadata": {
        "id": "yJSUWvKbxmVo"
      },
      "outputs": [],
      "source": [
        "train_data = train_digits.reshape(60000, 784) # change according to square of input \n",
        "test_data = test_digits.reshape(10000, 784)"
      ]
    },
    {
      "cell_type": "markdown",
      "metadata": {
        "id": "xYAWdaaCxmVq"
      },
      "source": [
        "#### Image Normalization"
      ]
    },
    {
      "cell_type": "code",
      "execution_count": null,
      "metadata": {
        "id": "k293SF0FxmVq"
      },
      "outputs": [],
      "source": [
        "train_data1 = train_data.astype('float32') / 255\n",
        "test_data1 = test_data.astype('float32') / 255"
      ]
    },
    {
      "cell_type": "markdown",
      "metadata": {
        "id": "uv3-fn1mxmVs"
      },
      "source": [
        "#### Split Data into Train & Validation"
      ]
    },
    {
      "cell_type": "code",
      "execution_count": null,
      "metadata": {
        "id": "BWxseS4ZxmVt"
      },
      "outputs": [],
      "source": [
        "from sklearn.model_selection import train_test_split\n",
        "train_data2, val_data, train_label1, val_label = train_test_split(train_data1, train_labels_cat, test_size = 0.1, random_state=2)"
      ]
    },
    {
      "cell_type": "code",
      "execution_count": null,
      "metadata": {
        "colab": {
          "base_uri": "https://localhost:8080/"
        },
        "id": "99UyuyiZxmVv",
        "outputId": "15551026-c0cb-4eae-b562-25d74af27f4e"
      },
      "outputs": [
        {
          "output_type": "execute_result",
          "data": {
            "text/plain": [
              "(54000, 3136)"
            ]
          },
          "metadata": {},
          "execution_count": 44
        }
      ],
      "source": [
        "train_data2.shape"
      ]
    },
    {
      "cell_type": "code",
      "execution_count": null,
      "metadata": {
        "colab": {
          "base_uri": "https://localhost:8080/"
        },
        "id": "_KhijW8axmVv",
        "outputId": "3c021ac8-b29d-469b-8505-c7b89d81313a"
      },
      "outputs": [
        {
          "output_type": "execute_result",
          "data": {
            "text/plain": [
              "(54000, 10)"
            ]
          },
          "metadata": {},
          "execution_count": 45
        }
      ],
      "source": [
        "train_label1.shape"
      ]
    },
    {
      "cell_type": "code",
      "execution_count": null,
      "metadata": {
        "colab": {
          "base_uri": "https://localhost:8080/"
        },
        "id": "zG3VLxVDxmVw",
        "outputId": "ed2eb829-55a0-4703-c723-428b82c49eae"
      },
      "outputs": [
        {
          "output_type": "execute_result",
          "data": {
            "text/plain": [
              "(6000, 3136)"
            ]
          },
          "metadata": {},
          "execution_count": 46
        }
      ],
      "source": [
        "val_data.shape"
      ]
    },
    {
      "cell_type": "markdown",
      "metadata": {
        "id": "Ig4gzfJBxmVx"
      },
      "source": [
        "#### ANN Classification"
      ]
    },
    {
      "cell_type": "code",
      "execution_count": null,
      "metadata": {
        "id": "huHMLF4QxmVx"
      },
      "outputs": [],
      "source": [
        "from tensorflow.keras.layers import Dense, Dropout\n",
        "from tensorflow.keras.models import Sequential\n",
        "# Optimizers \n",
        "from tensorflow.keras.optimizers import Adam"
      ]
    },
    {
      "cell_type": "code",
      "execution_count": null,
      "metadata": {
        "id": "rLDWhkRnxmVy"
      },
      "outputs": [],
      "source": [
        "def build_model():\n",
        "    # Sequential Neural Network - FeedForward NN\n",
        "    model = Sequential()\n",
        "    # Units = Num of Neurons(2 * pow(n)), input_shape = number of features.\n",
        "    model.add(Dense(units = 64, activation = 'relu', input_shape = [train_data2.shape[1]]))\n",
        "    model.add(Dropout(0.2))\n",
        "    # Hidden Layer - I\n",
        "    model.add(Dense(units = 128, activation = 'relu'))\n",
        "    model.add(Dropout(0.2))\n",
        "    # Hidden Layer - II\n",
        "    model.add(Dense(units = 256, activation = 'relu'))\n",
        "    model.add(Dropout(0.2))\n",
        "    # Output Layer \n",
        "    model.add(Dense(units = 10, activation = 'softmax'))\n",
        "    # Optimizers\n",
        "    optimizers = Adam(learning_rate = 0.001)\n",
        "    \n",
        "    # Model Compiler\n",
        "    model.compile(loss = 'categorical_crossentropy', optimizer = optimizers, metrics = ['accuracy'])\n",
        "    \n",
        "    return model"
      ]
    },
    {
      "cell_type": "code",
      "execution_count": null,
      "metadata": {
        "id": "rtRkUOmqxmVz"
      },
      "outputs": [],
      "source": [
        "model = build_model()"
      ]
    },
    {
      "cell_type": "code",
      "execution_count": null,
      "metadata": {
        "scrolled": true,
        "colab": {
          "base_uri": "https://localhost:8080/"
        },
        "id": "__OgMo96xmVz",
        "outputId": "879bf77a-bd5a-40e1-eda0-07f4b1cb47e3"
      },
      "outputs": [
        {
          "output_type": "stream",
          "name": "stdout",
          "text": [
            "Model: \"sequential_1\"\n",
            "_________________________________________________________________\n",
            " Layer (type)                Output Shape              Param #   \n",
            "=================================================================\n",
            " dense_4 (Dense)             (None, 64)                200768    \n",
            "                                                                 \n",
            " dropout_3 (Dropout)         (None, 64)                0         \n",
            "                                                                 \n",
            " dense_5 (Dense)             (None, 128)               8320      \n",
            "                                                                 \n",
            " dropout_4 (Dropout)         (None, 128)               0         \n",
            "                                                                 \n",
            " dense_6 (Dense)             (None, 256)               33024     \n",
            "                                                                 \n",
            " dropout_5 (Dropout)         (None, 256)               0         \n",
            "                                                                 \n",
            " dense_7 (Dense)             (None, 10)                2570      \n",
            "                                                                 \n",
            "=================================================================\n",
            "Total params: 244,682\n",
            "Trainable params: 244,682\n",
            "Non-trainable params: 0\n",
            "_________________________________________________________________\n"
          ]
        }
      ],
      "source": [
        "model.summary()"
      ]
    },
    {
      "cell_type": "markdown",
      "source": [
        "# Results For 28*28 Images"
      ],
      "metadata": {
        "id": "tFgMPhw_0-VJ"
      }
    },
    {
      "cell_type": "code",
      "execution_count": null,
      "metadata": {
        "colab": {
          "base_uri": "https://localhost:8080/"
        },
        "id": "k2cVuoW-xmVz",
        "outputId": "956d5883-4f5a-4989-c145-65f43c44c058"
      },
      "outputs": [
        {
          "output_type": "stream",
          "name": "stdout",
          "text": [
            "Epoch 1/50\n",
            "1688/1688 [==============================] - 11s 5ms/step - loss: 0.3845 - accuracy: 0.8810 - val_loss: 0.1659 - val_accuracy: 0.9472\n",
            "Epoch 2/50\n",
            "1688/1688 [==============================] - 8s 4ms/step - loss: 0.2120 - accuracy: 0.9365 - val_loss: 0.1460 - val_accuracy: 0.9563\n",
            "Epoch 3/50\n",
            "1688/1688 [==============================] - 9s 6ms/step - loss: 0.1805 - accuracy: 0.9452 - val_loss: 0.1280 - val_accuracy: 0.9613\n",
            "Epoch 4/50\n",
            "1688/1688 [==============================] - 10s 6ms/step - loss: 0.1607 - accuracy: 0.9517 - val_loss: 0.1106 - val_accuracy: 0.9665\n",
            "Epoch 5/50\n",
            "1688/1688 [==============================] - 8s 5ms/step - loss: 0.1450 - accuracy: 0.9558 - val_loss: 0.0988 - val_accuracy: 0.9708\n",
            "Epoch 6/50\n",
            "1688/1688 [==============================] - 8s 5ms/step - loss: 0.1357 - accuracy: 0.9598 - val_loss: 0.0986 - val_accuracy: 0.9690\n",
            "Epoch 7/50\n",
            "1688/1688 [==============================] - 8s 5ms/step - loss: 0.1299 - accuracy: 0.9607 - val_loss: 0.0883 - val_accuracy: 0.9735\n",
            "Epoch 8/50\n",
            "1688/1688 [==============================] - 8s 5ms/step - loss: 0.1205 - accuracy: 0.9629 - val_loss: 0.0913 - val_accuracy: 0.9720\n",
            "Epoch 9/50\n",
            "1688/1688 [==============================] - 8s 5ms/step - loss: 0.1142 - accuracy: 0.9647 - val_loss: 0.0976 - val_accuracy: 0.9732\n",
            "Epoch 10/50\n",
            "1688/1688 [==============================] - 9s 5ms/step - loss: 0.1141 - accuracy: 0.9661 - val_loss: 0.0837 - val_accuracy: 0.9753\n",
            "Epoch 11/50\n",
            "1688/1688 [==============================] - 9s 6ms/step - loss: 0.1075 - accuracy: 0.9669 - val_loss: 0.0952 - val_accuracy: 0.9715\n",
            "Epoch 12/50\n",
            "1688/1688 [==============================] - 8s 5ms/step - loss: 0.1025 - accuracy: 0.9681 - val_loss: 0.0812 - val_accuracy: 0.9752\n",
            "Epoch 13/50\n",
            "1688/1688 [==============================] - 11s 6ms/step - loss: 0.1014 - accuracy: 0.9686 - val_loss: 0.0946 - val_accuracy: 0.9722\n",
            "Epoch 14/50\n",
            "1688/1688 [==============================] - 8s 5ms/step - loss: 0.0991 - accuracy: 0.9701 - val_loss: 0.0842 - val_accuracy: 0.9750\n",
            "Epoch 15/50\n",
            "1688/1688 [==============================] - 10s 6ms/step - loss: 0.0961 - accuracy: 0.9710 - val_loss: 0.0869 - val_accuracy: 0.9750\n",
            "Epoch 16/50\n",
            "1688/1688 [==============================] - 9s 6ms/step - loss: 0.0944 - accuracy: 0.9711 - val_loss: 0.0828 - val_accuracy: 0.9758\n",
            "Epoch 17/50\n",
            "1688/1688 [==============================] - 8s 5ms/step - loss: 0.0938 - accuracy: 0.9715 - val_loss: 0.0774 - val_accuracy: 0.9782\n",
            "Epoch 18/50\n",
            "1688/1688 [==============================] - 9s 5ms/step - loss: 0.0902 - accuracy: 0.9727 - val_loss: 0.0832 - val_accuracy: 0.9752\n",
            "Epoch 19/50\n",
            "1688/1688 [==============================] - 8s 4ms/step - loss: 0.0875 - accuracy: 0.9737 - val_loss: 0.0901 - val_accuracy: 0.9760\n",
            "Epoch 20/50\n",
            "1688/1688 [==============================] - 8s 5ms/step - loss: 0.0901 - accuracy: 0.9726 - val_loss: 0.0788 - val_accuracy: 0.9767\n",
            "Epoch 21/50\n",
            "1688/1688 [==============================] - 8s 5ms/step - loss: 0.0875 - accuracy: 0.9735 - val_loss: 0.0819 - val_accuracy: 0.9755\n",
            "Epoch 22/50\n",
            "1688/1688 [==============================] - 8s 5ms/step - loss: 0.0824 - accuracy: 0.9748 - val_loss: 0.0850 - val_accuracy: 0.9772\n",
            "Epoch 23/50\n",
            "1688/1688 [==============================] - 8s 5ms/step - loss: 0.0846 - accuracy: 0.9738 - val_loss: 0.0888 - val_accuracy: 0.9765\n",
            "Epoch 24/50\n",
            "1688/1688 [==============================] - 10s 6ms/step - loss: 0.0866 - accuracy: 0.9733 - val_loss: 0.0756 - val_accuracy: 0.9793\n",
            "Epoch 25/50\n",
            "1688/1688 [==============================] - 8s 5ms/step - loss: 0.0827 - accuracy: 0.9741 - val_loss: 0.0782 - val_accuracy: 0.9788\n",
            "Epoch 26/50\n",
            "1688/1688 [==============================] - 10s 6ms/step - loss: 0.0803 - accuracy: 0.9749 - val_loss: 0.0814 - val_accuracy: 0.9772\n",
            "Epoch 27/50\n",
            "1688/1688 [==============================] - 8s 5ms/step - loss: 0.0790 - accuracy: 0.9763 - val_loss: 0.0761 - val_accuracy: 0.9787\n",
            "Epoch 28/50\n",
            "1688/1688 [==============================] - 9s 5ms/step - loss: 0.0792 - accuracy: 0.9751 - val_loss: 0.0819 - val_accuracy: 0.9763\n",
            "Epoch 29/50\n",
            "1688/1688 [==============================] - 9s 5ms/step - loss: 0.0775 - accuracy: 0.9755 - val_loss: 0.0838 - val_accuracy: 0.9783\n",
            "Epoch 30/50\n",
            "1688/1688 [==============================] - 9s 5ms/step - loss: 0.0765 - accuracy: 0.9768 - val_loss: 0.0846 - val_accuracy: 0.9762\n",
            "Epoch 31/50\n",
            "1688/1688 [==============================] - 11s 7ms/step - loss: 0.0781 - accuracy: 0.9760 - val_loss: 0.0808 - val_accuracy: 0.9792\n",
            "Epoch 32/50\n",
            "1688/1688 [==============================] - 10s 6ms/step - loss: 0.0767 - accuracy: 0.9760 - val_loss: 0.0822 - val_accuracy: 0.9787\n",
            "Epoch 33/50\n",
            "1688/1688 [==============================] - 8s 5ms/step - loss: 0.0760 - accuracy: 0.9754 - val_loss: 0.0848 - val_accuracy: 0.9752\n",
            "Epoch 34/50\n",
            "1688/1688 [==============================] - 8s 5ms/step - loss: 0.0728 - accuracy: 0.9774 - val_loss: 0.0810 - val_accuracy: 0.9768\n",
            "Epoch 35/50\n",
            "1688/1688 [==============================] - 8s 5ms/step - loss: 0.0728 - accuracy: 0.9784 - val_loss: 0.0955 - val_accuracy: 0.9762\n",
            "Epoch 36/50\n",
            "1688/1688 [==============================] - 8s 5ms/step - loss: 0.0751 - accuracy: 0.9774 - val_loss: 0.0875 - val_accuracy: 0.9768\n",
            "Epoch 37/50\n",
            "1688/1688 [==============================] - 8s 5ms/step - loss: 0.0730 - accuracy: 0.9785 - val_loss: 0.0751 - val_accuracy: 0.9787\n",
            "Epoch 38/50\n",
            "1688/1688 [==============================] - 8s 5ms/step - loss: 0.0693 - accuracy: 0.9779 - val_loss: 0.0907 - val_accuracy: 0.9758\n",
            "Epoch 39/50\n",
            "1688/1688 [==============================] - 8s 5ms/step - loss: 0.0694 - accuracy: 0.9795 - val_loss: 0.0793 - val_accuracy: 0.9780\n",
            "Epoch 40/50\n",
            "1688/1688 [==============================] - 8s 5ms/step - loss: 0.0704 - accuracy: 0.9781 - val_loss: 0.0845 - val_accuracy: 0.9783\n",
            "Epoch 41/50\n",
            "1688/1688 [==============================] - 8s 5ms/step - loss: 0.0705 - accuracy: 0.9783 - val_loss: 0.0823 - val_accuracy: 0.9788\n",
            "Epoch 42/50\n",
            "1688/1688 [==============================] - 8s 5ms/step - loss: 0.0672 - accuracy: 0.9789 - val_loss: 0.0852 - val_accuracy: 0.9788\n",
            "Epoch 43/50\n",
            "1688/1688 [==============================] - 8s 5ms/step - loss: 0.0705 - accuracy: 0.9784 - val_loss: 0.0901 - val_accuracy: 0.9775\n",
            "Epoch 44/50\n",
            "1688/1688 [==============================] - 8s 5ms/step - loss: 0.0695 - accuracy: 0.9785 - val_loss: 0.0800 - val_accuracy: 0.9785\n",
            "Epoch 45/50\n",
            "1688/1688 [==============================] - 8s 5ms/step - loss: 0.0698 - accuracy: 0.9787 - val_loss: 0.0790 - val_accuracy: 0.9798\n",
            "Epoch 46/50\n",
            "1688/1688 [==============================] - 8s 5ms/step - loss: 0.0675 - accuracy: 0.9789 - val_loss: 0.0761 - val_accuracy: 0.9793\n",
            "Epoch 47/50\n",
            "1688/1688 [==============================] - 8s 5ms/step - loss: 0.0709 - accuracy: 0.9787 - val_loss: 0.0866 - val_accuracy: 0.9773\n",
            "Epoch 48/50\n",
            "1688/1688 [==============================] - 8s 5ms/step - loss: 0.0684 - accuracy: 0.9788 - val_loss: 0.0871 - val_accuracy: 0.9780\n",
            "Epoch 49/50\n",
            "1688/1688 [==============================] - 8s 5ms/step - loss: 0.0653 - accuracy: 0.9796 - val_loss: 0.0958 - val_accuracy: 0.9770\n",
            "Epoch 50/50\n",
            "1688/1688 [==============================] - 8s 5ms/step - loss: 0.0676 - accuracy: 0.9791 - val_loss: 0.0782 - val_accuracy: 0.9787\n"
          ]
        }
      ],
      "source": [
        "history = model.fit(train_data2, train_label1, epochs = 50, batch_size = 32, validation_data = (val_data, val_label))"
      ]
    },
    {
      "cell_type": "code",
      "execution_count": null,
      "metadata": {
        "id": "eyO7Zw3VxmV0",
        "colab": {
          "base_uri": "https://localhost:8080/",
          "height": 1000
        },
        "outputId": "4f15e88b-a1d9-4e6e-f931-32c01a5205c3"
      },
      "outputs": [
        {
          "output_type": "execute_result",
          "data": {
            "text/html": [
              "\n",
              "  <div id=\"df-232af73d-9df0-4829-a02a-27ff2f0004d8\">\n",
              "    <div class=\"colab-df-container\">\n",
              "      <div>\n",
              "<style scoped>\n",
              "    .dataframe tbody tr th:only-of-type {\n",
              "        vertical-align: middle;\n",
              "    }\n",
              "\n",
              "    .dataframe tbody tr th {\n",
              "        vertical-align: top;\n",
              "    }\n",
              "\n",
              "    .dataframe thead th {\n",
              "        text-align: right;\n",
              "    }\n",
              "</style>\n",
              "<table border=\"1\" class=\"dataframe\">\n",
              "  <thead>\n",
              "    <tr style=\"text-align: right;\">\n",
              "      <th></th>\n",
              "      <th>loss</th>\n",
              "      <th>accuracy</th>\n",
              "      <th>val_loss</th>\n",
              "      <th>val_accuracy</th>\n",
              "    </tr>\n",
              "  </thead>\n",
              "  <tbody>\n",
              "    <tr>\n",
              "      <th>0</th>\n",
              "      <td>0.384531</td>\n",
              "      <td>0.880963</td>\n",
              "      <td>0.165906</td>\n",
              "      <td>0.947167</td>\n",
              "    </tr>\n",
              "    <tr>\n",
              "      <th>1</th>\n",
              "      <td>0.211968</td>\n",
              "      <td>0.936537</td>\n",
              "      <td>0.146014</td>\n",
              "      <td>0.956333</td>\n",
              "    </tr>\n",
              "    <tr>\n",
              "      <th>2</th>\n",
              "      <td>0.180460</td>\n",
              "      <td>0.945204</td>\n",
              "      <td>0.127959</td>\n",
              "      <td>0.961333</td>\n",
              "    </tr>\n",
              "    <tr>\n",
              "      <th>3</th>\n",
              "      <td>0.160732</td>\n",
              "      <td>0.951685</td>\n",
              "      <td>0.110637</td>\n",
              "      <td>0.966500</td>\n",
              "    </tr>\n",
              "    <tr>\n",
              "      <th>4</th>\n",
              "      <td>0.145004</td>\n",
              "      <td>0.955778</td>\n",
              "      <td>0.098780</td>\n",
              "      <td>0.970833</td>\n",
              "    </tr>\n",
              "    <tr>\n",
              "      <th>5</th>\n",
              "      <td>0.135682</td>\n",
              "      <td>0.959759</td>\n",
              "      <td>0.098559</td>\n",
              "      <td>0.969000</td>\n",
              "    </tr>\n",
              "    <tr>\n",
              "      <th>6</th>\n",
              "      <td>0.129870</td>\n",
              "      <td>0.960722</td>\n",
              "      <td>0.088303</td>\n",
              "      <td>0.973500</td>\n",
              "    </tr>\n",
              "    <tr>\n",
              "      <th>7</th>\n",
              "      <td>0.120532</td>\n",
              "      <td>0.962926</td>\n",
              "      <td>0.091305</td>\n",
              "      <td>0.972000</td>\n",
              "    </tr>\n",
              "    <tr>\n",
              "      <th>8</th>\n",
              "      <td>0.114242</td>\n",
              "      <td>0.964741</td>\n",
              "      <td>0.097606</td>\n",
              "      <td>0.973167</td>\n",
              "    </tr>\n",
              "    <tr>\n",
              "      <th>9</th>\n",
              "      <td>0.114149</td>\n",
              "      <td>0.966056</td>\n",
              "      <td>0.083742</td>\n",
              "      <td>0.975333</td>\n",
              "    </tr>\n",
              "    <tr>\n",
              "      <th>10</th>\n",
              "      <td>0.107507</td>\n",
              "      <td>0.966907</td>\n",
              "      <td>0.095180</td>\n",
              "      <td>0.971500</td>\n",
              "    </tr>\n",
              "    <tr>\n",
              "      <th>11</th>\n",
              "      <td>0.102486</td>\n",
              "      <td>0.968111</td>\n",
              "      <td>0.081238</td>\n",
              "      <td>0.975167</td>\n",
              "    </tr>\n",
              "    <tr>\n",
              "      <th>12</th>\n",
              "      <td>0.101387</td>\n",
              "      <td>0.968593</td>\n",
              "      <td>0.094593</td>\n",
              "      <td>0.972167</td>\n",
              "    </tr>\n",
              "    <tr>\n",
              "      <th>13</th>\n",
              "      <td>0.099142</td>\n",
              "      <td>0.970130</td>\n",
              "      <td>0.084211</td>\n",
              "      <td>0.975000</td>\n",
              "    </tr>\n",
              "    <tr>\n",
              "      <th>14</th>\n",
              "      <td>0.096084</td>\n",
              "      <td>0.970963</td>\n",
              "      <td>0.086948</td>\n",
              "      <td>0.975000</td>\n",
              "    </tr>\n",
              "    <tr>\n",
              "      <th>15</th>\n",
              "      <td>0.094407</td>\n",
              "      <td>0.971148</td>\n",
              "      <td>0.082760</td>\n",
              "      <td>0.975833</td>\n",
              "    </tr>\n",
              "    <tr>\n",
              "      <th>16</th>\n",
              "      <td>0.093774</td>\n",
              "      <td>0.971537</td>\n",
              "      <td>0.077438</td>\n",
              "      <td>0.978167</td>\n",
              "    </tr>\n",
              "    <tr>\n",
              "      <th>17</th>\n",
              "      <td>0.090229</td>\n",
              "      <td>0.972722</td>\n",
              "      <td>0.083246</td>\n",
              "      <td>0.975167</td>\n",
              "    </tr>\n",
              "    <tr>\n",
              "      <th>18</th>\n",
              "      <td>0.087510</td>\n",
              "      <td>0.973685</td>\n",
              "      <td>0.090107</td>\n",
              "      <td>0.976000</td>\n",
              "    </tr>\n",
              "    <tr>\n",
              "      <th>19</th>\n",
              "      <td>0.090076</td>\n",
              "      <td>0.972556</td>\n",
              "      <td>0.078755</td>\n",
              "      <td>0.976667</td>\n",
              "    </tr>\n",
              "    <tr>\n",
              "      <th>20</th>\n",
              "      <td>0.087505</td>\n",
              "      <td>0.973463</td>\n",
              "      <td>0.081929</td>\n",
              "      <td>0.975500</td>\n",
              "    </tr>\n",
              "    <tr>\n",
              "      <th>21</th>\n",
              "      <td>0.082415</td>\n",
              "      <td>0.974796</td>\n",
              "      <td>0.085038</td>\n",
              "      <td>0.977167</td>\n",
              "    </tr>\n",
              "    <tr>\n",
              "      <th>22</th>\n",
              "      <td>0.084610</td>\n",
              "      <td>0.973778</td>\n",
              "      <td>0.088843</td>\n",
              "      <td>0.976500</td>\n",
              "    </tr>\n",
              "    <tr>\n",
              "      <th>23</th>\n",
              "      <td>0.086616</td>\n",
              "      <td>0.973259</td>\n",
              "      <td>0.075578</td>\n",
              "      <td>0.979333</td>\n",
              "    </tr>\n",
              "    <tr>\n",
              "      <th>24</th>\n",
              "      <td>0.082652</td>\n",
              "      <td>0.974074</td>\n",
              "      <td>0.078234</td>\n",
              "      <td>0.978833</td>\n",
              "    </tr>\n",
              "    <tr>\n",
              "      <th>25</th>\n",
              "      <td>0.080302</td>\n",
              "      <td>0.974944</td>\n",
              "      <td>0.081400</td>\n",
              "      <td>0.977167</td>\n",
              "    </tr>\n",
              "    <tr>\n",
              "      <th>26</th>\n",
              "      <td>0.078957</td>\n",
              "      <td>0.976333</td>\n",
              "      <td>0.076077</td>\n",
              "      <td>0.978667</td>\n",
              "    </tr>\n",
              "    <tr>\n",
              "      <th>27</th>\n",
              "      <td>0.079206</td>\n",
              "      <td>0.975056</td>\n",
              "      <td>0.081862</td>\n",
              "      <td>0.976333</td>\n",
              "    </tr>\n",
              "    <tr>\n",
              "      <th>28</th>\n",
              "      <td>0.077476</td>\n",
              "      <td>0.975482</td>\n",
              "      <td>0.083798</td>\n",
              "      <td>0.978333</td>\n",
              "    </tr>\n",
              "    <tr>\n",
              "      <th>29</th>\n",
              "      <td>0.076506</td>\n",
              "      <td>0.976796</td>\n",
              "      <td>0.084635</td>\n",
              "      <td>0.976167</td>\n",
              "    </tr>\n",
              "    <tr>\n",
              "      <th>30</th>\n",
              "      <td>0.078117</td>\n",
              "      <td>0.975981</td>\n",
              "      <td>0.080810</td>\n",
              "      <td>0.979167</td>\n",
              "    </tr>\n",
              "    <tr>\n",
              "      <th>31</th>\n",
              "      <td>0.076722</td>\n",
              "      <td>0.976019</td>\n",
              "      <td>0.082234</td>\n",
              "      <td>0.978667</td>\n",
              "    </tr>\n",
              "    <tr>\n",
              "      <th>32</th>\n",
              "      <td>0.076034</td>\n",
              "      <td>0.975407</td>\n",
              "      <td>0.084770</td>\n",
              "      <td>0.975167</td>\n",
              "    </tr>\n",
              "    <tr>\n",
              "      <th>33</th>\n",
              "      <td>0.072798</td>\n",
              "      <td>0.977407</td>\n",
              "      <td>0.080972</td>\n",
              "      <td>0.976833</td>\n",
              "    </tr>\n",
              "    <tr>\n",
              "      <th>34</th>\n",
              "      <td>0.072772</td>\n",
              "      <td>0.978426</td>\n",
              "      <td>0.095469</td>\n",
              "      <td>0.976167</td>\n",
              "    </tr>\n",
              "    <tr>\n",
              "      <th>35</th>\n",
              "      <td>0.075078</td>\n",
              "      <td>0.977370</td>\n",
              "      <td>0.087526</td>\n",
              "      <td>0.976833</td>\n",
              "    </tr>\n",
              "    <tr>\n",
              "      <th>36</th>\n",
              "      <td>0.072988</td>\n",
              "      <td>0.978519</td>\n",
              "      <td>0.075094</td>\n",
              "      <td>0.978667</td>\n",
              "    </tr>\n",
              "    <tr>\n",
              "      <th>37</th>\n",
              "      <td>0.069282</td>\n",
              "      <td>0.977889</td>\n",
              "      <td>0.090728</td>\n",
              "      <td>0.975833</td>\n",
              "    </tr>\n",
              "    <tr>\n",
              "      <th>38</th>\n",
              "      <td>0.069383</td>\n",
              "      <td>0.979519</td>\n",
              "      <td>0.079335</td>\n",
              "      <td>0.978000</td>\n",
              "    </tr>\n",
              "    <tr>\n",
              "      <th>39</th>\n",
              "      <td>0.070426</td>\n",
              "      <td>0.978130</td>\n",
              "      <td>0.084534</td>\n",
              "      <td>0.978333</td>\n",
              "    </tr>\n",
              "    <tr>\n",
              "      <th>40</th>\n",
              "      <td>0.070473</td>\n",
              "      <td>0.978259</td>\n",
              "      <td>0.082340</td>\n",
              "      <td>0.978833</td>\n",
              "    </tr>\n",
              "    <tr>\n",
              "      <th>41</th>\n",
              "      <td>0.067226</td>\n",
              "      <td>0.978870</td>\n",
              "      <td>0.085216</td>\n",
              "      <td>0.978833</td>\n",
              "    </tr>\n",
              "    <tr>\n",
              "      <th>42</th>\n",
              "      <td>0.070511</td>\n",
              "      <td>0.978389</td>\n",
              "      <td>0.090051</td>\n",
              "      <td>0.977500</td>\n",
              "    </tr>\n",
              "    <tr>\n",
              "      <th>43</th>\n",
              "      <td>0.069532</td>\n",
              "      <td>0.978519</td>\n",
              "      <td>0.080004</td>\n",
              "      <td>0.978500</td>\n",
              "    </tr>\n",
              "    <tr>\n",
              "      <th>44</th>\n",
              "      <td>0.069767</td>\n",
              "      <td>0.978685</td>\n",
              "      <td>0.079006</td>\n",
              "      <td>0.979833</td>\n",
              "    </tr>\n",
              "    <tr>\n",
              "      <th>45</th>\n",
              "      <td>0.067495</td>\n",
              "      <td>0.978889</td>\n",
              "      <td>0.076077</td>\n",
              "      <td>0.979333</td>\n",
              "    </tr>\n",
              "    <tr>\n",
              "      <th>46</th>\n",
              "      <td>0.070855</td>\n",
              "      <td>0.978704</td>\n",
              "      <td>0.086635</td>\n",
              "      <td>0.977333</td>\n",
              "    </tr>\n",
              "    <tr>\n",
              "      <th>47</th>\n",
              "      <td>0.068359</td>\n",
              "      <td>0.978778</td>\n",
              "      <td>0.087079</td>\n",
              "      <td>0.978000</td>\n",
              "    </tr>\n",
              "    <tr>\n",
              "      <th>48</th>\n",
              "      <td>0.065252</td>\n",
              "      <td>0.979556</td>\n",
              "      <td>0.095778</td>\n",
              "      <td>0.977000</td>\n",
              "    </tr>\n",
              "    <tr>\n",
              "      <th>49</th>\n",
              "      <td>0.067632</td>\n",
              "      <td>0.979111</td>\n",
              "      <td>0.078177</td>\n",
              "      <td>0.978667</td>\n",
              "    </tr>\n",
              "  </tbody>\n",
              "</table>\n",
              "</div>\n",
              "      <button class=\"colab-df-convert\" onclick=\"convertToInteractive('df-232af73d-9df0-4829-a02a-27ff2f0004d8')\"\n",
              "              title=\"Convert this dataframe to an interactive table.\"\n",
              "              style=\"display:none;\">\n",
              "        \n",
              "  <svg xmlns=\"http://www.w3.org/2000/svg\" height=\"24px\"viewBox=\"0 0 24 24\"\n",
              "       width=\"24px\">\n",
              "    <path d=\"M0 0h24v24H0V0z\" fill=\"none\"/>\n",
              "    <path d=\"M18.56 5.44l.94 2.06.94-2.06 2.06-.94-2.06-.94-.94-2.06-.94 2.06-2.06.94zm-11 1L8.5 8.5l.94-2.06 2.06-.94-2.06-.94L8.5 2.5l-.94 2.06-2.06.94zm10 10l.94 2.06.94-2.06 2.06-.94-2.06-.94-.94-2.06-.94 2.06-2.06.94z\"/><path d=\"M17.41 7.96l-1.37-1.37c-.4-.4-.92-.59-1.43-.59-.52 0-1.04.2-1.43.59L10.3 9.45l-7.72 7.72c-.78.78-.78 2.05 0 2.83L4 21.41c.39.39.9.59 1.41.59.51 0 1.02-.2 1.41-.59l7.78-7.78 2.81-2.81c.8-.78.8-2.07 0-2.86zM5.41 20L4 18.59l7.72-7.72 1.47 1.35L5.41 20z\"/>\n",
              "  </svg>\n",
              "      </button>\n",
              "      \n",
              "  <style>\n",
              "    .colab-df-container {\n",
              "      display:flex;\n",
              "      flex-wrap:wrap;\n",
              "      gap: 12px;\n",
              "    }\n",
              "\n",
              "    .colab-df-convert {\n",
              "      background-color: #E8F0FE;\n",
              "      border: none;\n",
              "      border-radius: 50%;\n",
              "      cursor: pointer;\n",
              "      display: none;\n",
              "      fill: #1967D2;\n",
              "      height: 32px;\n",
              "      padding: 0 0 0 0;\n",
              "      width: 32px;\n",
              "    }\n",
              "\n",
              "    .colab-df-convert:hover {\n",
              "      background-color: #E2EBFA;\n",
              "      box-shadow: 0px 1px 2px rgba(60, 64, 67, 0.3), 0px 1px 3px 1px rgba(60, 64, 67, 0.15);\n",
              "      fill: #174EA6;\n",
              "    }\n",
              "\n",
              "    [theme=dark] .colab-df-convert {\n",
              "      background-color: #3B4455;\n",
              "      fill: #D2E3FC;\n",
              "    }\n",
              "\n",
              "    [theme=dark] .colab-df-convert:hover {\n",
              "      background-color: #434B5C;\n",
              "      box-shadow: 0px 1px 3px 1px rgba(0, 0, 0, 0.15);\n",
              "      filter: drop-shadow(0px 1px 2px rgba(0, 0, 0, 0.3));\n",
              "      fill: #FFFFFF;\n",
              "    }\n",
              "  </style>\n",
              "\n",
              "      <script>\n",
              "        const buttonEl =\n",
              "          document.querySelector('#df-232af73d-9df0-4829-a02a-27ff2f0004d8 button.colab-df-convert');\n",
              "        buttonEl.style.display =\n",
              "          google.colab.kernel.accessAllowed ? 'block' : 'none';\n",
              "\n",
              "        async function convertToInteractive(key) {\n",
              "          const element = document.querySelector('#df-232af73d-9df0-4829-a02a-27ff2f0004d8');\n",
              "          const dataTable =\n",
              "            await google.colab.kernel.invokeFunction('convertToInteractive',\n",
              "                                                     [key], {});\n",
              "          if (!dataTable) return;\n",
              "\n",
              "          const docLinkHtml = 'Like what you see? Visit the ' +\n",
              "            '<a target=\"_blank\" href=https://colab.research.google.com/notebooks/data_table.ipynb>data table notebook</a>'\n",
              "            + ' to learn more about interactive tables.';\n",
              "          element.innerHTML = '';\n",
              "          dataTable['output_type'] = 'display_data';\n",
              "          await google.colab.output.renderOutput(dataTable, element);\n",
              "          const docLink = document.createElement('div');\n",
              "          docLink.innerHTML = docLinkHtml;\n",
              "          element.appendChild(docLink);\n",
              "        }\n",
              "      </script>\n",
              "    </div>\n",
              "  </div>\n",
              "  "
            ],
            "text/plain": [
              "        loss  accuracy  val_loss  val_accuracy\n",
              "0   0.384531  0.880963  0.165906      0.947167\n",
              "1   0.211968  0.936537  0.146014      0.956333\n",
              "2   0.180460  0.945204  0.127959      0.961333\n",
              "3   0.160732  0.951685  0.110637      0.966500\n",
              "4   0.145004  0.955778  0.098780      0.970833\n",
              "5   0.135682  0.959759  0.098559      0.969000\n",
              "6   0.129870  0.960722  0.088303      0.973500\n",
              "7   0.120532  0.962926  0.091305      0.972000\n",
              "8   0.114242  0.964741  0.097606      0.973167\n",
              "9   0.114149  0.966056  0.083742      0.975333\n",
              "10  0.107507  0.966907  0.095180      0.971500\n",
              "11  0.102486  0.968111  0.081238      0.975167\n",
              "12  0.101387  0.968593  0.094593      0.972167\n",
              "13  0.099142  0.970130  0.084211      0.975000\n",
              "14  0.096084  0.970963  0.086948      0.975000\n",
              "15  0.094407  0.971148  0.082760      0.975833\n",
              "16  0.093774  0.971537  0.077438      0.978167\n",
              "17  0.090229  0.972722  0.083246      0.975167\n",
              "18  0.087510  0.973685  0.090107      0.976000\n",
              "19  0.090076  0.972556  0.078755      0.976667\n",
              "20  0.087505  0.973463  0.081929      0.975500\n",
              "21  0.082415  0.974796  0.085038      0.977167\n",
              "22  0.084610  0.973778  0.088843      0.976500\n",
              "23  0.086616  0.973259  0.075578      0.979333\n",
              "24  0.082652  0.974074  0.078234      0.978833\n",
              "25  0.080302  0.974944  0.081400      0.977167\n",
              "26  0.078957  0.976333  0.076077      0.978667\n",
              "27  0.079206  0.975056  0.081862      0.976333\n",
              "28  0.077476  0.975482  0.083798      0.978333\n",
              "29  0.076506  0.976796  0.084635      0.976167\n",
              "30  0.078117  0.975981  0.080810      0.979167\n",
              "31  0.076722  0.976019  0.082234      0.978667\n",
              "32  0.076034  0.975407  0.084770      0.975167\n",
              "33  0.072798  0.977407  0.080972      0.976833\n",
              "34  0.072772  0.978426  0.095469      0.976167\n",
              "35  0.075078  0.977370  0.087526      0.976833\n",
              "36  0.072988  0.978519  0.075094      0.978667\n",
              "37  0.069282  0.977889  0.090728      0.975833\n",
              "38  0.069383  0.979519  0.079335      0.978000\n",
              "39  0.070426  0.978130  0.084534      0.978333\n",
              "40  0.070473  0.978259  0.082340      0.978833\n",
              "41  0.067226  0.978870  0.085216      0.978833\n",
              "42  0.070511  0.978389  0.090051      0.977500\n",
              "43  0.069532  0.978519  0.080004      0.978500\n",
              "44  0.069767  0.978685  0.079006      0.979833\n",
              "45  0.067495  0.978889  0.076077      0.979333\n",
              "46  0.070855  0.978704  0.086635      0.977333\n",
              "47  0.068359  0.978778  0.087079      0.978000\n",
              "48  0.065252  0.979556  0.095778      0.977000\n",
              "49  0.067632  0.979111  0.078177      0.978667"
            ]
          },
          "metadata": {},
          "execution_count": 29
        }
      ],
      "source": [
        "pd.DataFrame(history.history)"
      ]
    },
    {
      "cell_type": "code",
      "execution_count": null,
      "metadata": {
        "id": "bpWkrQalxmV1",
        "colab": {
          "base_uri": "https://localhost:8080/",
          "height": 282
        },
        "outputId": "eb1e68c3-09fe-4f2b-ec50-593fe846aed6"
      },
      "outputs": [
        {
          "output_type": "execute_result",
          "data": {
            "text/plain": [
              "<matplotlib.axes._subplots.AxesSubplot at 0x7fa6399e1210>"
            ]
          },
          "metadata": {},
          "execution_count": 30
        },
        {
          "output_type": "display_data",
          "data": {
            "image/png": "[encoded data removed]",
            "text/plain": [
              "<Figure size 432x288 with 1 Axes>"
            ]
          },
          "metadata": {}
        }
      ],
      "source": [
        "sns.set_style('darkgrid')\n",
        "pd.DataFrame(history.history)[['accuracy', 'val_accuracy']].plot()"
      ]
    },
    {
      "cell_type": "code",
      "execution_count": null,
      "metadata": {
        "id": "EVli2QILxmV1",
        "colab": {
          "base_uri": "https://localhost:8080/",
          "height": 286
        },
        "outputId": "683d7f02-90a4-4573-e156-ded3f83703c8"
      },
      "outputs": [
        {
          "output_type": "execute_result",
          "data": {
            "text/plain": [
              "<matplotlib.axes._subplots.AxesSubplot at 0x7fa639a91c50>"
            ]
          },
          "metadata": {},
          "execution_count": 31
        },
        {
          "output_type": "display_data",
          "data": {
            "image/png": "[encoded data removed]",
            "text/plain": [
              "<Figure size 432x288 with 1 Axes>"
            ]
          },
          "metadata": {}
        }
      ],
      "source": [
        "pd.DataFrame(history.history)[['loss', 'val_loss']].plot()"
      ]
    },
    {
      "cell_type": "markdown",
      "source": [
        "# Results For 56*56 Images"
      ],
      "metadata": {
        "id": "Uxwd48fT1ED8"
      }
    },
    {
      "cell_type": "code",
      "source": [
        "history = model.fit(train_data2, train_label1, epochs = 50, batch_size = 32, validation_data = (val_data, val_label))"
      ],
      "metadata": {
        "colab": {
          "base_uri": "https://localhost:8080/"
        },
        "id": "SMg8uQW51Doc",
        "outputId": "936d6352-29c4-450f-9e67-1be0c54939e7"
      },
      "execution_count": 51,
      "outputs": [
        {
          "output_type": "stream",
          "name": "stdout",
          "text": [
            "Epoch 1/50\n",
            "1688/1688 [==============================] - 9s 5ms/step - loss: 0.3791 - accuracy: 0.8835 - val_loss: 0.1937 - val_accuracy: 0.9393\n",
            "Epoch 2/50\n",
            "1688/1688 [==============================] - 8s 5ms/step - loss: 0.2264 - accuracy: 0.9319 - val_loss: 0.1473 - val_accuracy: 0.9558\n",
            "Epoch 3/50\n",
            "1688/1688 [==============================] - 8s 5ms/step - loss: 0.1982 - accuracy: 0.9409 - val_loss: 0.1282 - val_accuracy: 0.9625\n",
            "Epoch 4/50\n",
            "1688/1688 [==============================] - 8s 5ms/step - loss: 0.1744 - accuracy: 0.9468 - val_loss: 0.1140 - val_accuracy: 0.9692\n",
            "Epoch 5/50\n",
            "1688/1688 [==============================] - 8s 5ms/step - loss: 0.1627 - accuracy: 0.9515 - val_loss: 0.1081 - val_accuracy: 0.9683\n",
            "Epoch 6/50\n",
            "1688/1688 [==============================] - 8s 5ms/step - loss: 0.1541 - accuracy: 0.9536 - val_loss: 0.1054 - val_accuracy: 0.9667\n",
            "Epoch 7/50\n",
            "1688/1688 [==============================] - 8s 5ms/step - loss: 0.1455 - accuracy: 0.9562 - val_loss: 0.1030 - val_accuracy: 0.9712\n",
            "Epoch 8/50\n",
            "1688/1688 [==============================] - 8s 5ms/step - loss: 0.1420 - accuracy: 0.9577 - val_loss: 0.1022 - val_accuracy: 0.9693\n",
            "Epoch 9/50\n",
            "1688/1688 [==============================] - 8s 5ms/step - loss: 0.1356 - accuracy: 0.9576 - val_loss: 0.0975 - val_accuracy: 0.9728\n",
            "Epoch 10/50\n",
            "1688/1688 [==============================] - 8s 5ms/step - loss: 0.1322 - accuracy: 0.9604 - val_loss: 0.0948 - val_accuracy: 0.9728\n",
            "Epoch 11/50\n",
            "1688/1688 [==============================] - 9s 5ms/step - loss: 0.1320 - accuracy: 0.9595 - val_loss: 0.0973 - val_accuracy: 0.9723\n",
            "Epoch 12/50\n",
            "1688/1688 [==============================] - 8s 5ms/step - loss: 0.1269 - accuracy: 0.9624 - val_loss: 0.0980 - val_accuracy: 0.9715\n",
            "Epoch 13/50\n",
            "1688/1688 [==============================] - 8s 5ms/step - loss: 0.1200 - accuracy: 0.9638 - val_loss: 0.0844 - val_accuracy: 0.9743\n",
            "Epoch 14/50\n",
            "1688/1688 [==============================] - 9s 5ms/step - loss: 0.1214 - accuracy: 0.9626 - val_loss: 0.1048 - val_accuracy: 0.9692\n",
            "Epoch 15/50\n",
            "1688/1688 [==============================] - 8s 5ms/step - loss: 0.1200 - accuracy: 0.9634 - val_loss: 0.0865 - val_accuracy: 0.9757\n",
            "Epoch 16/50\n",
            "1688/1688 [==============================] - 8s 5ms/step - loss: 0.1173 - accuracy: 0.9639 - val_loss: 0.0807 - val_accuracy: 0.9742\n",
            "Epoch 17/50\n",
            "1688/1688 [==============================] - 8s 5ms/step - loss: 0.1148 - accuracy: 0.9649 - val_loss: 0.0922 - val_accuracy: 0.9718\n",
            "Epoch 18/50\n",
            "1688/1688 [==============================] - 8s 5ms/step - loss: 0.1149 - accuracy: 0.9661 - val_loss: 0.0906 - val_accuracy: 0.9747\n",
            "Epoch 19/50\n",
            "1688/1688 [==============================] - 8s 5ms/step - loss: 0.1112 - accuracy: 0.9664 - val_loss: 0.0897 - val_accuracy: 0.9750\n",
            "Epoch 20/50\n",
            "1688/1688 [==============================] - 8s 5ms/step - loss: 0.1083 - accuracy: 0.9674 - val_loss: 0.0798 - val_accuracy: 0.9767\n",
            "Epoch 21/50\n",
            "1688/1688 [==============================] - 8s 5ms/step - loss: 0.1091 - accuracy: 0.9681 - val_loss: 0.0853 - val_accuracy: 0.9767\n",
            "Epoch 22/50\n",
            "1688/1688 [==============================] - 8s 5ms/step - loss: 0.1081 - accuracy: 0.9674 - val_loss: 0.0904 - val_accuracy: 0.9752\n",
            "Epoch 23/50\n",
            "1688/1688 [==============================] - 8s 5ms/step - loss: 0.1104 - accuracy: 0.9675 - val_loss: 0.0906 - val_accuracy: 0.9720\n",
            "Epoch 24/50\n",
            "1688/1688 [==============================] - 9s 5ms/step - loss: 0.1106 - accuracy: 0.9674 - val_loss: 0.0912 - val_accuracy: 0.9748\n",
            "Epoch 25/50\n",
            "1688/1688 [==============================] - 9s 5ms/step - loss: 0.1016 - accuracy: 0.9690 - val_loss: 0.0995 - val_accuracy: 0.9737\n",
            "Epoch 26/50\n",
            "1688/1688 [==============================] - 9s 5ms/step - loss: 0.1044 - accuracy: 0.9686 - val_loss: 0.0888 - val_accuracy: 0.9745\n",
            "Epoch 27/50\n",
            "1688/1688 [==============================] - 9s 5ms/step - loss: 0.1022 - accuracy: 0.9688 - val_loss: 0.0900 - val_accuracy: 0.9757\n",
            "Epoch 28/50\n",
            "1688/1688 [==============================] - 9s 5ms/step - loss: 0.1036 - accuracy: 0.9686 - val_loss: 0.0983 - val_accuracy: 0.9718\n",
            "Epoch 29/50\n",
            "1688/1688 [==============================] - 9s 5ms/step - loss: 0.1054 - accuracy: 0.9685 - val_loss: 0.0954 - val_accuracy: 0.9738\n",
            "Epoch 30/50\n",
            "1688/1688 [==============================] - 8s 5ms/step - loss: 0.1013 - accuracy: 0.9701 - val_loss: 0.0856 - val_accuracy: 0.9767\n",
            "Epoch 31/50\n",
            "1688/1688 [==============================] - 8s 5ms/step - loss: 0.1020 - accuracy: 0.9686 - val_loss: 0.0867 - val_accuracy: 0.9723\n",
            "Epoch 32/50\n",
            "1688/1688 [==============================] - 8s 5ms/step - loss: 0.0992 - accuracy: 0.9707 - val_loss: 0.0810 - val_accuracy: 0.9768\n",
            "Epoch 33/50\n",
            "1688/1688 [==============================] - 8s 5ms/step - loss: 0.1042 - accuracy: 0.9691 - val_loss: 0.0886 - val_accuracy: 0.9742\n",
            "Epoch 34/50\n",
            "1688/1688 [==============================] - 9s 5ms/step - loss: 0.1030 - accuracy: 0.9697 - val_loss: 0.0887 - val_accuracy: 0.9737\n",
            "Epoch 35/50\n",
            "1688/1688 [==============================] - 9s 5ms/step - loss: 0.0981 - accuracy: 0.9704 - val_loss: 0.0919 - val_accuracy: 0.9727\n",
            "Epoch 36/50\n",
            "1688/1688 [==============================] - 9s 5ms/step - loss: 0.0969 - accuracy: 0.9711 - val_loss: 0.0850 - val_accuracy: 0.9752\n",
            "Epoch 37/50\n",
            "1688/1688 [==============================] - 9s 5ms/step - loss: 0.0981 - accuracy: 0.9699 - val_loss: 0.0916 - val_accuracy: 0.9742\n",
            "Epoch 38/50\n",
            "1688/1688 [==============================] - 9s 5ms/step - loss: 0.0991 - accuracy: 0.9710 - val_loss: 0.0884 - val_accuracy: 0.9745\n",
            "Epoch 39/50\n",
            "1688/1688 [==============================] - 9s 5ms/step - loss: 0.0985 - accuracy: 0.9699 - val_loss: 0.0870 - val_accuracy: 0.9750\n",
            "Epoch 40/50\n",
            "1688/1688 [==============================] - 9s 5ms/step - loss: 0.0949 - accuracy: 0.9715 - val_loss: 0.0941 - val_accuracy: 0.9752\n",
            "Epoch 41/50\n",
            "1688/1688 [==============================] - 8s 5ms/step - loss: 0.0942 - accuracy: 0.9719 - val_loss: 0.0841 - val_accuracy: 0.9768\n",
            "Epoch 42/50\n",
            "1688/1688 [==============================] - 8s 5ms/step - loss: 0.0984 - accuracy: 0.9710 - val_loss: 0.0888 - val_accuracy: 0.9760\n",
            "Epoch 43/50\n",
            "1688/1688 [==============================] - 9s 5ms/step - loss: 0.0939 - accuracy: 0.9728 - val_loss: 0.0904 - val_accuracy: 0.9748\n",
            "Epoch 44/50\n",
            "1688/1688 [==============================] - 8s 5ms/step - loss: 0.0944 - accuracy: 0.9723 - val_loss: 0.0878 - val_accuracy: 0.9758\n",
            "Epoch 45/50\n",
            "1688/1688 [==============================] - 9s 5ms/step - loss: 0.0941 - accuracy: 0.9711 - val_loss: 0.0996 - val_accuracy: 0.9740\n",
            "Epoch 46/50\n",
            "1688/1688 [==============================] - 9s 5ms/step - loss: 0.0951 - accuracy: 0.9717 - val_loss: 0.0901 - val_accuracy: 0.9740\n",
            "Epoch 47/50\n",
            "1688/1688 [==============================] - 9s 5ms/step - loss: 0.0962 - accuracy: 0.9706 - val_loss: 0.0865 - val_accuracy: 0.9758\n",
            "Epoch 48/50\n",
            "1688/1688 [==============================] - 9s 5ms/step - loss: 0.0906 - accuracy: 0.9732 - val_loss: 0.0899 - val_accuracy: 0.9745\n",
            "Epoch 49/50\n",
            "1688/1688 [==============================] - 8s 5ms/step - loss: 0.0946 - accuracy: 0.9720 - val_loss: 0.0807 - val_accuracy: 0.9758\n",
            "Epoch 50/50\n",
            "1688/1688 [==============================] - 9s 5ms/step - loss: 0.0888 - accuracy: 0.9733 - val_loss: 0.0877 - val_accuracy: 0.9763\n"
          ]
        }
      ]
    },
    {
      "cell_type": "code",
      "source": [
        "pd.DataFrame(history.history)"
      ],
      "metadata": {
        "id": "iE3q4Y9j1j26",
        "colab": {
          "base_uri": "https://localhost:8080/",
          "height": 1000
        },
        "outputId": "6a54aac5-364f-4d1a-f7f7-fe0a2b04ec28"
      },
      "execution_count": 52,
      "outputs": [
        {
          "output_type": "execute_result",
          "data": {
            "text/html": [
              "\n",
              "  <div id=\"df-685a551f-8e84-4efe-bd9f-c0b0924ce424\">\n",
              "    <div class=\"colab-df-container\">\n",
              "      <div>\n",
              "<style scoped>\n",
              "    .dataframe tbody tr th:only-of-type {\n",
              "        vertical-align: middle;\n",
              "    }\n",
              "\n",
              "    .dataframe tbody tr th {\n",
              "        vertical-align: top;\n",
              "    }\n",
              "\n",
              "    .dataframe thead th {\n",
              "        text-align: right;\n",
              "    }\n",
              "</style>\n",
              "<table border=\"1\" class=\"dataframe\">\n",
              "  <thead>\n",
              "    <tr style=\"text-align: right;\">\n",
              "      <th></th>\n",
              "      <th>loss</th>\n",
              "      <th>accuracy</th>\n",
              "      <th>val_loss</th>\n",
              "      <th>val_accuracy</th>\n",
              "    </tr>\n",
              "  </thead>\n",
              "  <tbody>\n",
              "    <tr>\n",
              "      <th>0</th>\n",
              "      <td>0.379111</td>\n",
              "      <td>0.883482</td>\n",
              "      <td>0.193714</td>\n",
              "      <td>0.939333</td>\n",
              "    </tr>\n",
              "    <tr>\n",
              "      <th>1</th>\n",
              "      <td>0.226404</td>\n",
              "      <td>0.931944</td>\n",
              "      <td>0.147274</td>\n",
              "      <td>0.955833</td>\n",
              "    </tr>\n",
              "    <tr>\n",
              "      <th>2</th>\n",
              "      <td>0.198189</td>\n",
              "      <td>0.940944</td>\n",
              "      <td>0.128249</td>\n",
              "      <td>0.962500</td>\n",
              "    </tr>\n",
              "    <tr>\n",
              "      <th>3</th>\n",
              "      <td>0.174351</td>\n",
              "      <td>0.946833</td>\n",
              "      <td>0.114041</td>\n",
              "      <td>0.969167</td>\n",
              "    </tr>\n",
              "    <tr>\n",
              "      <th>4</th>\n",
              "      <td>0.162681</td>\n",
              "      <td>0.951537</td>\n",
              "      <td>0.108144</td>\n",
              "      <td>0.968333</td>\n",
              "    </tr>\n",
              "    <tr>\n",
              "      <th>5</th>\n",
              "      <td>0.154063</td>\n",
              "      <td>0.953593</td>\n",
              "      <td>0.105388</td>\n",
              "      <td>0.966667</td>\n",
              "    </tr>\n",
              "    <tr>\n",
              "      <th>6</th>\n",
              "      <td>0.145461</td>\n",
              "      <td>0.956222</td>\n",
              "      <td>0.103035</td>\n",
              "      <td>0.971167</td>\n",
              "    </tr>\n",
              "    <tr>\n",
              "      <th>7</th>\n",
              "      <td>0.142044</td>\n",
              "      <td>0.957667</td>\n",
              "      <td>0.102210</td>\n",
              "      <td>0.969333</td>\n",
              "    </tr>\n",
              "    <tr>\n",
              "      <th>8</th>\n",
              "      <td>0.135552</td>\n",
              "      <td>0.957556</td>\n",
              "      <td>0.097513</td>\n",
              "      <td>0.972833</td>\n",
              "    </tr>\n",
              "    <tr>\n",
              "      <th>9</th>\n",
              "      <td>0.132180</td>\n",
              "      <td>0.960352</td>\n",
              "      <td>0.094837</td>\n",
              "      <td>0.972833</td>\n",
              "    </tr>\n",
              "    <tr>\n",
              "      <th>10</th>\n",
              "      <td>0.132026</td>\n",
              "      <td>0.959518</td>\n",
              "      <td>0.097316</td>\n",
              "      <td>0.972333</td>\n",
              "    </tr>\n",
              "    <tr>\n",
              "      <th>11</th>\n",
              "      <td>0.126860</td>\n",
              "      <td>0.962370</td>\n",
              "      <td>0.097952</td>\n",
              "      <td>0.971500</td>\n",
              "    </tr>\n",
              "    <tr>\n",
              "      <th>12</th>\n",
              "      <td>0.120049</td>\n",
              "      <td>0.963833</td>\n",
              "      <td>0.084385</td>\n",
              "      <td>0.974333</td>\n",
              "    </tr>\n",
              "    <tr>\n",
              "      <th>13</th>\n",
              "      <td>0.121420</td>\n",
              "      <td>0.962574</td>\n",
              "      <td>0.104752</td>\n",
              "      <td>0.969167</td>\n",
              "    </tr>\n",
              "    <tr>\n",
              "      <th>14</th>\n",
              "      <td>0.120025</td>\n",
              "      <td>0.963426</td>\n",
              "      <td>0.086474</td>\n",
              "      <td>0.975667</td>\n",
              "    </tr>\n",
              "    <tr>\n",
              "      <th>15</th>\n",
              "      <td>0.117268</td>\n",
              "      <td>0.963889</td>\n",
              "      <td>0.080723</td>\n",
              "      <td>0.974167</td>\n",
              "    </tr>\n",
              "    <tr>\n",
              "      <th>16</th>\n",
              "      <td>0.114783</td>\n",
              "      <td>0.964907</td>\n",
              "      <td>0.092160</td>\n",
              "      <td>0.971833</td>\n",
              "    </tr>\n",
              "    <tr>\n",
              "      <th>17</th>\n",
              "      <td>0.114885</td>\n",
              "      <td>0.966056</td>\n",
              "      <td>0.090553</td>\n",
              "      <td>0.974667</td>\n",
              "    </tr>\n",
              "    <tr>\n",
              "      <th>18</th>\n",
              "      <td>0.111220</td>\n",
              "      <td>0.966370</td>\n",
              "      <td>0.089663</td>\n",
              "      <td>0.975000</td>\n",
              "    </tr>\n",
              "    <tr>\n",
              "      <th>19</th>\n",
              "      <td>0.108282</td>\n",
              "      <td>0.967407</td>\n",
              "      <td>0.079826</td>\n",
              "      <td>0.976667</td>\n",
              "    </tr>\n",
              "    <tr>\n",
              "      <th>20</th>\n",
              "      <td>0.109110</td>\n",
              "      <td>0.968056</td>\n",
              "      <td>0.085322</td>\n",
              "      <td>0.976667</td>\n",
              "    </tr>\n",
              "    <tr>\n",
              "      <th>21</th>\n",
              "      <td>0.108112</td>\n",
              "      <td>0.967407</td>\n",
              "      <td>0.090416</td>\n",
              "      <td>0.975167</td>\n",
              "    </tr>\n",
              "    <tr>\n",
              "      <th>22</th>\n",
              "      <td>0.110442</td>\n",
              "      <td>0.967463</td>\n",
              "      <td>0.090575</td>\n",
              "      <td>0.972000</td>\n",
              "    </tr>\n",
              "    <tr>\n",
              "      <th>23</th>\n",
              "      <td>0.110632</td>\n",
              "      <td>0.967352</td>\n",
              "      <td>0.091225</td>\n",
              "      <td>0.974833</td>\n",
              "    </tr>\n",
              "    <tr>\n",
              "      <th>24</th>\n",
              "      <td>0.101640</td>\n",
              "      <td>0.969019</td>\n",
              "      <td>0.099528</td>\n",
              "      <td>0.973667</td>\n",
              "    </tr>\n",
              "    <tr>\n",
              "      <th>25</th>\n",
              "      <td>0.104382</td>\n",
              "      <td>0.968593</td>\n",
              "      <td>0.088783</td>\n",
              "      <td>0.974500</td>\n",
              "    </tr>\n",
              "    <tr>\n",
              "      <th>26</th>\n",
              "      <td>0.102179</td>\n",
              "      <td>0.968759</td>\n",
              "      <td>0.089985</td>\n",
              "      <td>0.975667</td>\n",
              "    </tr>\n",
              "    <tr>\n",
              "      <th>27</th>\n",
              "      <td>0.103627</td>\n",
              "      <td>0.968574</td>\n",
              "      <td>0.098281</td>\n",
              "      <td>0.971833</td>\n",
              "    </tr>\n",
              "    <tr>\n",
              "      <th>28</th>\n",
              "      <td>0.105414</td>\n",
              "      <td>0.968463</td>\n",
              "      <td>0.095391</td>\n",
              "      <td>0.973833</td>\n",
              "    </tr>\n",
              "    <tr>\n",
              "      <th>29</th>\n",
              "      <td>0.101350</td>\n",
              "      <td>0.970130</td>\n",
              "      <td>0.085581</td>\n",
              "      <td>0.976667</td>\n",
              "    </tr>\n",
              "    <tr>\n",
              "      <th>30</th>\n",
              "      <td>0.101976</td>\n",
              "      <td>0.968648</td>\n",
              "      <td>0.086700</td>\n",
              "      <td>0.972333</td>\n",
              "    </tr>\n",
              "    <tr>\n",
              "      <th>31</th>\n",
              "      <td>0.099161</td>\n",
              "      <td>0.970722</td>\n",
              "      <td>0.080961</td>\n",
              "      <td>0.976833</td>\n",
              "    </tr>\n",
              "    <tr>\n",
              "      <th>32</th>\n",
              "      <td>0.104208</td>\n",
              "      <td>0.969093</td>\n",
              "      <td>0.088601</td>\n",
              "      <td>0.974167</td>\n",
              "    </tr>\n",
              "    <tr>\n",
              "      <th>33</th>\n",
              "      <td>0.102990</td>\n",
              "      <td>0.969704</td>\n",
              "      <td>0.088745</td>\n",
              "      <td>0.973667</td>\n",
              "    </tr>\n",
              "    <tr>\n",
              "      <th>34</th>\n",
              "      <td>0.098069</td>\n",
              "      <td>0.970426</td>\n",
              "      <td>0.091891</td>\n",
              "      <td>0.972667</td>\n",
              "    </tr>\n",
              "    <tr>\n",
              "      <th>35</th>\n",
              "      <td>0.096926</td>\n",
              "      <td>0.971130</td>\n",
              "      <td>0.085018</td>\n",
              "      <td>0.975167</td>\n",
              "    </tr>\n",
              "    <tr>\n",
              "      <th>36</th>\n",
              "      <td>0.098082</td>\n",
              "      <td>0.969870</td>\n",
              "      <td>0.091607</td>\n",
              "      <td>0.974167</td>\n",
              "    </tr>\n",
              "    <tr>\n",
              "      <th>37</th>\n",
              "      <td>0.099114</td>\n",
              "      <td>0.970981</td>\n",
              "      <td>0.088443</td>\n",
              "      <td>0.974500</td>\n",
              "    </tr>\n",
              "    <tr>\n",
              "      <th>38</th>\n",
              "      <td>0.098540</td>\n",
              "      <td>0.969889</td>\n",
              "      <td>0.086968</td>\n",
              "      <td>0.975000</td>\n",
              "    </tr>\n",
              "    <tr>\n",
              "      <th>39</th>\n",
              "      <td>0.094857</td>\n",
              "      <td>0.971500</td>\n",
              "      <td>0.094141</td>\n",
              "      <td>0.975167</td>\n",
              "    </tr>\n",
              "    <tr>\n",
              "      <th>40</th>\n",
              "      <td>0.094196</td>\n",
              "      <td>0.971852</td>\n",
              "      <td>0.084131</td>\n",
              "      <td>0.976833</td>\n",
              "    </tr>\n",
              "    <tr>\n",
              "      <th>41</th>\n",
              "      <td>0.098441</td>\n",
              "      <td>0.970963</td>\n",
              "      <td>0.088836</td>\n",
              "      <td>0.976000</td>\n",
              "    </tr>\n",
              "    <tr>\n",
              "      <th>42</th>\n",
              "      <td>0.093888</td>\n",
              "      <td>0.972815</td>\n",
              "      <td>0.090366</td>\n",
              "      <td>0.974833</td>\n",
              "    </tr>\n",
              "    <tr>\n",
              "      <th>43</th>\n",
              "      <td>0.094373</td>\n",
              "      <td>0.972315</td>\n",
              "      <td>0.087797</td>\n",
              "      <td>0.975833</td>\n",
              "    </tr>\n",
              "    <tr>\n",
              "      <th>44</th>\n",
              "      <td>0.094053</td>\n",
              "      <td>0.971093</td>\n",
              "      <td>0.099564</td>\n",
              "      <td>0.974000</td>\n",
              "    </tr>\n",
              "    <tr>\n",
              "      <th>45</th>\n",
              "      <td>0.095068</td>\n",
              "      <td>0.971704</td>\n",
              "      <td>0.090116</td>\n",
              "      <td>0.974000</td>\n",
              "    </tr>\n",
              "    <tr>\n",
              "      <th>46</th>\n",
              "      <td>0.096216</td>\n",
              "      <td>0.970648</td>\n",
              "      <td>0.086474</td>\n",
              "      <td>0.975833</td>\n",
              "    </tr>\n",
              "    <tr>\n",
              "      <th>47</th>\n",
              "      <td>0.090591</td>\n",
              "      <td>0.973222</td>\n",
              "      <td>0.089915</td>\n",
              "      <td>0.974500</td>\n",
              "    </tr>\n",
              "    <tr>\n",
              "      <th>48</th>\n",
              "      <td>0.094560</td>\n",
              "      <td>0.972019</td>\n",
              "      <td>0.080660</td>\n",
              "      <td>0.975833</td>\n",
              "    </tr>\n",
              "    <tr>\n",
              "      <th>49</th>\n",
              "      <td>0.088781</td>\n",
              "      <td>0.973259</td>\n",
              "      <td>0.087679</td>\n",
              "      <td>0.976333</td>\n",
              "    </tr>\n",
              "  </tbody>\n",
              "</table>\n",
              "</div>\n",
              "      <button class=\"colab-df-convert\" onclick=\"convertToInteractive('df-685a551f-8e84-4efe-bd9f-c0b0924ce424')\"\n",
              "              title=\"Convert this dataframe to an interactive table.\"\n",
              "              style=\"display:none;\">\n",
              "        \n",
              "  <svg xmlns=\"http://www.w3.org/2000/svg\" height=\"24px\"viewBox=\"0 0 24 24\"\n",
              "       width=\"24px\">\n",
              "    <path d=\"M0 0h24v24H0V0z\" fill=\"none\"/>\n",
              "    <path d=\"M18.56 5.44l.94 2.06.94-2.06 2.06-.94-2.06-.94-.94-2.06-.94 2.06-2.06.94zm-11 1L8.5 8.5l.94-2.06 2.06-.94-2.06-.94L8.5 2.5l-.94 2.06-2.06.94zm10 10l.94 2.06.94-2.06 2.06-.94-2.06-.94-.94-2.06-.94 2.06-2.06.94z\"/><path d=\"M17.41 7.96l-1.37-1.37c-.4-.4-.92-.59-1.43-.59-.52 0-1.04.2-1.43.59L10.3 9.45l-7.72 7.72c-.78.78-.78 2.05 0 2.83L4 21.41c.39.39.9.59 1.41.59.51 0 1.02-.2 1.41-.59l7.78-7.78 2.81-2.81c.8-.78.8-2.07 0-2.86zM5.41 20L4 18.59l7.72-7.72 1.47 1.35L5.41 20z\"/>\n",
              "  </svg>\n",
              "      </button>\n",
              "      \n",
              "  <style>\n",
              "    .colab-df-container {\n",
              "      display:flex;\n",
              "      flex-wrap:wrap;\n",
              "      gap: 12px;\n",
              "    }\n",
              "\n",
              "    .colab-df-convert {\n",
              "      background-color: #E8F0FE;\n",
              "      border: none;\n",
              "      border-radius: 50%;\n",
              "      cursor: pointer;\n",
              "      display: none;\n",
              "      fill: #1967D2;\n",
              "      height: 32px;\n",
              "      padding: 0 0 0 0;\n",
              "      width: 32px;\n",
              "    }\n",
              "\n",
              "    .colab-df-convert:hover {\n",
              "      background-color: #E2EBFA;\n",
              "      box-shadow: 0px 1px 2px rgba(60, 64, 67, 0.3), 0px 1px 3px 1px rgba(60, 64, 67, 0.15);\n",
              "      fill: #174EA6;\n",
              "    }\n",
              "\n",
              "    [theme=dark] .colab-df-convert {\n",
              "      background-color: #3B4455;\n",
              "      fill: #D2E3FC;\n",
              "    }\n",
              "\n",
              "    [theme=dark] .colab-df-convert:hover {\n",
              "      background-color: #434B5C;\n",
              "      box-shadow: 0px 1px 3px 1px rgba(0, 0, 0, 0.15);\n",
              "      filter: drop-shadow(0px 1px 2px rgba(0, 0, 0, 0.3));\n",
              "      fill: #FFFFFF;\n",
              "    }\n",
              "  </style>\n",
              "\n",
              "      <script>\n",
              "        const buttonEl =\n",
              "          document.querySelector('#df-685a551f-8e84-4efe-bd9f-c0b0924ce424 button.colab-df-convert');\n",
              "        buttonEl.style.display =\n",
              "          google.colab.kernel.accessAllowed ? 'block' : 'none';\n",
              "\n",
              "        async function convertToInteractive(key) {\n",
              "          const element = document.querySelector('#df-685a551f-8e84-4efe-bd9f-c0b0924ce424');\n",
              "          const dataTable =\n",
              "            await google.colab.kernel.invokeFunction('convertToInteractive',\n",
              "                                                     [key], {});\n",
              "          if (!dataTable) return;\n",
              "\n",
              "          const docLinkHtml = 'Like what you see? Visit the ' +\n",
              "            '<a target=\"_blank\" href=https://colab.research.google.com/notebooks/data_table.ipynb>data table notebook</a>'\n",
              "            + ' to learn more about interactive tables.';\n",
              "          element.innerHTML = '';\n",
              "          dataTable['output_type'] = 'display_data';\n",
              "          await google.colab.output.renderOutput(dataTable, element);\n",
              "          const docLink = document.createElement('div');\n",
              "          docLink.innerHTML = docLinkHtml;\n",
              "          element.appendChild(docLink);\n",
              "        }\n",
              "      </script>\n",
              "    </div>\n",
              "  </div>\n",
              "  "
            ],
            "text/plain": [
              "        loss  accuracy  val_loss  val_accuracy\n",
              "0   0.379111  0.883482  0.193714      0.939333\n",
              "1   0.226404  0.931944  0.147274      0.955833\n",
              "2   0.198189  0.940944  0.128249      0.962500\n",
              "3   0.174351  0.946833  0.114041      0.969167\n",
              "4   0.162681  0.951537  0.108144      0.968333\n",
              "5   0.154063  0.953593  0.105388      0.966667\n",
              "6   0.145461  0.956222  0.103035      0.971167\n",
              "7   0.142044  0.957667  0.102210      0.969333\n",
              "8   0.135552  0.957556  0.097513      0.972833\n",
              "9   0.132180  0.960352  0.094837      0.972833\n",
              "10  0.132026  0.959518  0.097316      0.972333\n",
              "11  0.126860  0.962370  0.097952      0.971500\n",
              "12  0.120049  0.963833  0.084385      0.974333\n",
              "13  0.121420  0.962574  0.104752      0.969167\n",
              "14  0.120025  0.963426  0.086474      0.975667\n",
              "15  0.117268  0.963889  0.080723      0.974167\n",
              "16  0.114783  0.964907  0.092160      0.971833\n",
              "17  0.114885  0.966056  0.090553      0.974667\n",
              "18  0.111220  0.966370  0.089663      0.975000\n",
              "19  0.108282  0.967407  0.079826      0.976667\n",
              "20  0.109110  0.968056  0.085322      0.976667\n",
              "21  0.108112  0.967407  0.090416      0.975167\n",
              "22  0.110442  0.967463  0.090575      0.972000\n",
              "23  0.110632  0.967352  0.091225      0.974833\n",
              "24  0.101640  0.969019  0.099528      0.973667\n",
              "25  0.104382  0.968593  0.088783      0.974500\n",
              "26  0.102179  0.968759  0.089985      0.975667\n",
              "27  0.103627  0.968574  0.098281      0.971833\n",
              "28  0.105414  0.968463  0.095391      0.973833\n",
              "29  0.101350  0.970130  0.085581      0.976667\n",
              "30  0.101976  0.968648  0.086700      0.972333\n",
              "31  0.099161  0.970722  0.080961      0.976833\n",
              "32  0.104208  0.969093  0.088601      0.974167\n",
              "33  0.102990  0.969704  0.088745      0.973667\n",
              "34  0.098069  0.970426  0.091891      0.972667\n",
              "35  0.096926  0.971130  0.085018      0.975167\n",
              "36  0.098082  0.969870  0.091607      0.974167\n",
              "37  0.099114  0.970981  0.088443      0.974500\n",
              "38  0.098540  0.969889  0.086968      0.975000\n",
              "39  0.094857  0.971500  0.094141      0.975167\n",
              "40  0.094196  0.971852  0.084131      0.976833\n",
              "41  0.098441  0.970963  0.088836      0.976000\n",
              "42  0.093888  0.972815  0.090366      0.974833\n",
              "43  0.094373  0.972315  0.087797      0.975833\n",
              "44  0.094053  0.971093  0.099564      0.974000\n",
              "45  0.095068  0.971704  0.090116      0.974000\n",
              "46  0.096216  0.970648  0.086474      0.975833\n",
              "47  0.090591  0.973222  0.089915      0.974500\n",
              "48  0.094560  0.972019  0.080660      0.975833\n",
              "49  0.088781  0.973259  0.087679      0.976333"
            ]
          },
          "metadata": {},
          "execution_count": 52
        }
      ]
    },
    {
      "cell_type": "code",
      "source": [
        "sns.set_style('darkgrid')\n",
        "pd.DataFrame(history.history)[['accuracy', 'val_accuracy']].plot()"
      ],
      "metadata": {
        "id": "Y8KQLuO21l-b",
        "colab": {
          "base_uri": "https://localhost:8080/",
          "height": 283
        },
        "outputId": "ce046b70-38e7-4183-f845-0fb0331de3ac"
      },
      "execution_count": 53,
      "outputs": [
        {
          "output_type": "execute_result",
          "data": {
            "text/plain": [
              "<matplotlib.axes._subplots.AxesSubplot at 0x7fa5aecc2310>"
            ]
          },
          "metadata": {},
          "execution_count": 53
        },
        {
          "output_type": "display_data",
          "data": {
            "image/png": "[encoded data removed]",
            "text/plain": [
              "<Figure size 432x288 with 1 Axes>"
            ]
          },
          "metadata": {}
        }
      ]
    },
    {
      "cell_type": "code",
      "source": [
        "pd.DataFrame(history.history)[['loss', 'val_loss']].plot()"
      ],
      "metadata": {
        "id": "YX27A_tS1n0J",
        "colab": {
          "base_uri": "https://localhost:8080/",
          "height": 282
        },
        "outputId": "98ca796e-c7f5-484a-d8ab-d3788587ff4d"
      },
      "execution_count": 54,
      "outputs": [
        {
          "output_type": "execute_result",
          "data": {
            "text/plain": [
              "<matplotlib.axes._subplots.AxesSubplot at 0x7fa5bd680a90>"
            ]
          },
          "metadata": {},
          "execution_count": 54
        },
        {
          "output_type": "display_data",
          "data": {
            "image/png": "[encoded data removed]",
            "text/plain": [
              "<Figure size 432x288 with 1 Axes>"
            ]
          },
          "metadata": {}
        }
      ]
    },
    {
      "cell_type": "markdown",
      "source": [
        "# Observations\n",
        "1. **Ideally the 56*56 images should take more time to train** as more information has to be processed by the model, but due to input size difference being too small, and having very fast GPU on collab we are not able to see much difference.\n",
        "2. In terms for graph for loss we can see overfitting happening after a few epochs in 28\\*28 images but in case of 56\\*56 images we have reached the saturation point still it is not overfitting as val loss is still less than train loss. Similar is the case with accuracy graph. **Hence we can easily see and say that accuracy is better in case of 56\\*56 images than 28\\*28 images with similar parameters.**\n",
        "\n"
      ],
      "metadata": {
        "id": "Q4eFCPxt4yAe"
      }
    },
    {
      "cell_type": "code",
      "source": [
        ""
      ],
      "metadata": {
        "id": "pZBq-cBQ4z4e"
      },
      "execution_count": null,
      "outputs": []
    }
  ],
  "metadata": {
    "kernelspec": {
      "display_name": "Python 3",
      "language": "python",
      "name": "python3"
    },
    "language_info": {
      "codemirror_mode": {
        "name": "ipython",
        "version": 3
      },
      "file_extension": ".py",
      "mimetype": "text/x-python",
      "name": "python",
      "nbconvert_exporter": "python",
      "pygments_lexer": "ipython3",
      "version": "3.8.5"
    },
    "colab": {
      "name": "KARTIK_PANDEY_101903504.ipynb",
      "provenance": [],
      "collapsed_sections": []
    },
    "accelerator": "GPU"
  },
  "nbformat": 4,
  "nbformat_minor": 0
}